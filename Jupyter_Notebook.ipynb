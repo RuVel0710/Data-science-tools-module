{
 "cells": [
  {
   "cell_type": "markdown",
   "metadata": {},
   "source": [
    "<center>\n",
    "    <img src=\"https://cf-courses-data.s3.us.cloud-object-storage.appdomain.cloud/IBMDeveloperSkillsNetwork-DS0105EN-SkillsNetwork/labs/Module2/images/SN_web_lightmode.png\" width=\"300\" alt=\"cognitiveclass.ai logo\">\n",
    "</center>\n"
   ]
  },
  {
   "cell_type": "markdown",
   "metadata": {},
   "source": [
    "#### Add your code below following the instructions given in the course\n"
   ]
  },
  {
   "cell_type": "markdown",
   "metadata": {},
   "source": [
    "# Data Science Tools"
   ]
  },
  {
   "cell_type": "markdown",
   "metadata": {},
   "source": [
    "## Introduction\n",
    "###  This is the final excersice for the module Data Science Tools"
   ]
  },
  {
   "cell_type": "markdown",
   "metadata": {},
   "source": [
    "## 4. Create a markdown cell to list data science languages. \n",
    "* Python\n",
    "* R\n",
    "* SQL\n",
    "* Java\n",
    "* Julia\n",
    "* Scala\n",
    "* C/C++\n",
    "* JavaScript\n",
    "* MATLAB\n",
    "* SAS"
   ]
  },
  {
   "cell_type": "markdown",
   "metadata": {},
   "source": [
    "## 5. Create a markdown cell to list data science libraries\n",
    "* TensorFlow\n",
    "* NumPy\n",
    "* SciPy \n",
    "* Pandas\n",
    "* Matplotlib \n",
    "* Keras\n",
    "* SciKit-Learn\n",
    "* PyTorch\n",
    "* Scrapy\n",
    "* BeautifulSoup\n"
   ]
  },
  {
   "cell_type": "markdown",
   "metadata": {},
   "source": [
    "## 6. Create a markdown cell with a table of Data Science tools."
   ]
  },
  {
   "cell_type": "markdown",
   "metadata": {},
   "source": [
    "| General-purpose tools | Cloud-based tools | Multipurpose Data science Tools | Programming Language-driven Tools |Visualization Tools |Machine Learning and NLP Tools for Data science |Big Data Tools |Business Intelligence Data Science Tools|\n",
    "|----------|----------|----------|----------|----------|----------|----------|----------|\n",
    "| MS Excel   | BigML   | Apache Spark   |Python| Tableau  | Scikit Learn   | Apache Hadoop   |  Microsoft Power BI   |\n",
    "| --    | Google Analytics   | Matlab |  R Programming | Matplotlib | TensorFlow   |  --   |  QlikView   |\n",
    "|--    | ---   | SAS   | Jupyter notebook | Minitab   | Rapidminer   | --   |  --   |\n",
    "| --    | --   | KNIME   | Mongo Db | --   | DataRobot   | --   |  --   |\n",
    "| --    | --   | Apache flink   | Julia | --   | NLTK   | --   |  --   |\n"
   ]
  },
  {
   "cell_type": "markdown",
   "metadata": {},
   "source": [
    "## 7. Create a markdown cell introducing arithmetic expression examples."
   ]
  },
  {
   "cell_type": "markdown",
   "metadata": {},
   "source": [
    "### Addition\t+\tAdds one operand to the other\n",
    "\n",
    "#### 1+1 = 2\n",
    "\n"
   ]
  },
  {
   "cell_type": "markdown",
   "metadata": {},
   "source": [
    "### Subtraction\t-\tSubtracts the second operand from the first\n",
    "\n",
    "### 2-1 = 1"
   ]
  },
  {
   "cell_type": "markdown",
   "metadata": {},
   "source": [
    "### Multiplication\t*\tMultiplies one operand by the other\n",
    "\n",
    "#### 1*2 = 2"
   ]
  },
  {
   "cell_type": "markdown",
   "metadata": {},
   "source": [
    "### Division\t/\tDivides the first operand by the second\n",
    "\n",
    "### 20 / 4 = 5"
   ]
  },
  {
   "cell_type": "markdown",
   "metadata": {},
   "source": [
    "### 8. Create a code cell to multiply and add numbers"
   ]
  },
  {
   "cell_type": "code",
   "execution_count": 4,
   "metadata": {},
   "outputs": [
    {
     "data": {
      "text/plain": [
       "17"
      ]
     },
     "execution_count": 4,
     "metadata": {},
     "output_type": "execute_result"
    }
   ],
   "source": [
    "(3*5)+2"
   ]
  },
  {
   "cell_type": "markdown",
   "metadata": {},
   "source": [
    "### 9 - Create a code cell to convert minutes to hours."
   ]
  },
  {
   "cell_type": "code",
   "execution_count": 5,
   "metadata": {},
   "outputs": [
    {
     "name": "stdout",
     "output_type": "stream",
     "text": [
      "Enter time in minutes90\n",
      "Hours= 1\n",
      "Minutes= 30\n"
     ]
    }
   ],
   "source": [
    "min=int(input(\"Enter time in minutes\"))\n",
    "h=min//60\n",
    "m=min%60\n",
    "print(\"Hours=\",h)\n",
    "print(\"Minutes=\",m)"
   ]
  },
  {
   "cell_type": "markdown",
   "metadata": {},
   "source": [
    "### 10.Insert a markdown cell to list Objectives.\n",
    "* Create Markdonw cell\n",
    "* Create Code Cell\n",
    "* Format content of markdonw cell with heading styles\n"
   ]
  },
  {
   "cell_type": "markdown",
   "metadata": {},
   "source": [
    "### 11. Author’s name.\n",
    "#### Jorge Ruben Velazquez Davila\n",
    "\n"
   ]
  },
  {
   "cell_type": "code",
   "execution_count": null,
   "metadata": {},
   "outputs": [],
   "source": []
  }
 ],
 "metadata": {
  "kernelspec": {
   "display_name": "Python 3 (ipykernel)",
   "language": "python",
   "name": "python3"
  },
  "language_info": {
   "codemirror_mode": {
    "name": "ipython",
    "version": 3
   },
   "file_extension": ".py",
   "mimetype": "text/x-python",
   "name": "python",
   "nbconvert_exporter": "python",
   "pygments_lexer": "ipython3",
   "version": "3.8.18"
  },
  "vscode": {
   "interpreter": {
    "hash": "1e6e2befb986e98e5158c6fae269c8b95b5421b3cd559f1b1ffa3b3123d17eaa"
   }
  }
 },
 "nbformat": 4,
 "nbformat_minor": 4
}
